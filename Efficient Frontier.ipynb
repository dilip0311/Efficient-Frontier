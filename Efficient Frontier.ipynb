{
 "cells": [
  {
   "cell_type": "markdown",
   "metadata": {},
   "source": [
    "## Efficient Frontier"
   ]
  },
  {
   "cell_type": "markdown",
   "metadata": {},
   "source": [
    "Starting by importing a dataset. I have used the Ken French dataset of the returns of 30 different industry portfolios because of its availability.\n",
    "I have also removed certain formating issues present in the dataset"
   ]
  },
  {
   "cell_type": "code",
   "execution_count": 5,
   "metadata": {},
   "outputs": [],
   "source": [
    "import numpy as np\n",
    "import pandas as pd\n",
    "\n",
    "ind = pd.read_csv(\"data/ind30_m_vw_rets.csv\", header=0, index_col=0)/100\n",
    "ind.index = pd.to_datetime(ind.index, format=\"%Y%m\").to_period('M')\n",
    "ind.columns = ind.columns.str.strip()"
   ]
  },
  {
   "cell_type": "markdown",
   "metadata": {},
   "source": [
    "Defining functions for annualizing returns, portfolio returns and portfolio volatility based on assigned weights."
   ]
  },
  {
   "cell_type": "code",
   "execution_count": 7,
   "metadata": {},
   "outputs": [],
   "source": [
    "def annualize_rets(r, periods_per_year):\n",
    "    \"\"\"\n",
    "    Annualizes a set of returns\n",
    "    We should infer the periods per year\n",
    "    but that is currently left as an exercise\n",
    "    to the reader :-)\n",
    "    \"\"\"\n",
    "    compounded_growth = (1+r).prod()\n",
    "    n_periods = r.shape[0]\n",
    "    return compounded_growth**(periods_per_year/n_periods)-1\n",
    "\n",
    "def portfolio_return(weights, returns):\n",
    "    \"\"\"\n",
    "    Computes the return on a portfolio from constituent returns and weights\n",
    "    weights are a numpy array or Nx1 matrix and returns are a numpy array or Nx1 matrix\n",
    "    \"\"\"\n",
    "    return weights.T @ returns\n",
    "\n",
    "def portfolio_vol(weights, covmat):\n",
    "    \"\"\"\n",
    "    Computes the vol of a portfolio from a covariance matrix and constituent weights\n",
    "    weights are a numpy array or N x 1 maxtrix and covmat is an N x N matrix\n",
    "    \"\"\"\n",
    "    return (weights.T @ covmat @ weights)**0.5"
   ]
  },
  {
   "cell_type": "markdown",
   "metadata": {},
   "source": [
    "Filtered out the data before 1996 to reduce the load on machine"
   ]
  },
  {
   "cell_type": "code",
   "execution_count": 23,
   "metadata": {},
   "outputs": [],
   "source": [
    "#Annualized returns  \n",
    "er = annualize_rets(ind[\"1996\":], 12)\n",
    "# Covariance Matrix \n",
    "cov = ind[\"1996\":].cov()"
   ]
  },
  {
   "cell_type": "code",
   "execution_count": 15,
   "metadata": {},
   "outputs": [],
   "source": [
    "from scipy.optimize import minimize\n",
    "\n",
    "def minimize_vol(target_return, er, cov):\n",
    "    \"\"\"\n",
    "    Returns the optimal weights that achieve the target return\n",
    "    given a set of expected returns and a covariance matrix\n",
    "    \"\"\"\n",
    "    n = er.shape[0]\n",
    "    init_guess = np.repeat(1/n, n)\n",
    "    bounds = ((0.0, 1.0),) * n # an N-tuple of 2-tuples!\n",
    "    # construct the constraints\n",
    "    weights_sum_to_1 = {'type': 'eq',\n",
    "                        'fun': lambda weights: np.sum(weights) - 1\n",
    "    }\n",
    "    return_is_target = {'type': 'eq',\n",
    "                        'args': (er,),\n",
    "                        'fun': lambda weights, er: target_return - portfolio_return(weights,er)\n",
    "    }\n",
    "    weights = minimize(portfolio_vol, init_guess,\n",
    "                       args=(cov,), method='SLSQP',\n",
    "                       options={'disp': False},\n",
    "                       constraints=(weights_sum_to_1,return_is_target),\n",
    "                       bounds=bounds)\n",
    "    return weights.x"
   ]
  },
  {
   "cell_type": "code",
   "execution_count": 12,
   "metadata": {},
   "outputs": [],
   "source": [
    "def optimal_weights(n_points, er, cov):\n",
    "    \"\"\"\n",
    "    \"\"\"\n",
    "    target_rs = np.linspace(er.min(), er.max(), n_points)\n",
    "    weights = [minimize_vol(target_return, er, cov) for target_return in target_rs]\n",
    "    return weights\n",
    "\n",
    "def plot_ef(n_points, er, cov):\n",
    "    \"\"\"\n",
    "    Plots the multi-asset efficient frontier\n",
    "    \"\"\"\n",
    "    weights = optimal_weights(n_points, er, cov) # not yet implemented!\n",
    "    rets = [portfolio_return(w, er) for w in weights]\n",
    "    vols = [portfolio_vol(w, cov) for w in weights]\n",
    "    ef = pd.DataFrame({\n",
    "        \"Returns\": rets, \n",
    "        \"Volatility\": vols\n",
    "    })\n",
    "    return ef.plot.line(x=\"Volatility\", y=\"Returns\", style='.-')\n"
   ]
  },
  {
   "cell_type": "code",
   "execution_count": 25,
   "metadata": {},
   "outputs": [
    {
     "data": {
      "text/plain": [
       "<matplotlib.axes._subplots.AxesSubplot at 0x296eb516988>"
      ]
     },
     "execution_count": 25,
     "metadata": {},
     "output_type": "execute_result"
    },
    {
     "data": {
      "image/png": "[encoded data removed]",
      "text/plain": [
       "<Figure size 432x288 with 1 Axes>"
      ]
     },
     "metadata": {
      "needs_background": "light"
     },
     "output_type": "display_data"
    }
   ],
   "source": [
    "l = [\"Food\", \"Beer\", \"Smoke\", \"Games\", \"Books\"]\n",
    "plot_ef(100, er[l], cov.loc[l, l])"
   ]
  },
  {
   "cell_type": "code",
   "execution_count": null,
   "metadata": {},
   "outputs": [],
   "source": []
  }
 ],
 "metadata": {
  "kernelspec": {
   "display_name": "Python 3",
   "language": "python",
   "name": "python3"
  },
  "language_info": {
   "codemirror_mode": {
    "name": "ipython",
    "version": 3
   },
   "file_extension": ".py",
   "mimetype": "text/x-python",
   "name": "python",
   "nbconvert_exporter": "python",
   "pygments_lexer": "ipython3",
   "version": "3.7.6"
  }
 },
 "nbformat": 4,
 "nbformat_minor": 4
}
